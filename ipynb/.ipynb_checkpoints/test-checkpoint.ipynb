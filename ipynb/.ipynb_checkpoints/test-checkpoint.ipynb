{
 "cells": [
  {
   "cell_type": "code",
   "execution_count": 196,
   "metadata": {},
   "outputs": [],
   "source": [
    "import pandas as pd"
   ]
  },
  {
   "cell_type": "code",
   "execution_count": 197,
   "metadata": {},
   "outputs": [],
   "source": [
    "source = pd.read_csv('../data/crime2010_2018.csv',skiprows=1,header=None,nrows=5)"
   ]
  },
  {
   "cell_type": "code",
   "execution_count": 198,
   "metadata": {},
   "outputs": [],
   "source": [
    "src = source[[0,1,2,3,7,8,16,25]]"
   ]
  },
  {
   "cell_type": "code",
   "execution_count": 199,
   "metadata": {},
   "outputs": [],
   "source": [
    "data = src.rename(columns = {0 : 'num', 1 : 'date_reported',2:'date_occured',3:'time_occured',7:'crime_code',8:'crime_desc',16:'weapon',25:'location'})"
   ]
  },
  {
   "cell_type": "code",
   "execution_count": 200,
   "metadata": {
    "scrolled": true
   },
   "outputs": [
    {
     "data": {
      "text/html": [
       "<div>\n",
       "<style scoped>\n",
       "    .dataframe tbody tr th:only-of-type {\n",
       "        vertical-align: middle;\n",
       "    }\n",
       "\n",
       "    .dataframe tbody tr th {\n",
       "        vertical-align: top;\n",
       "    }\n",
       "\n",
       "    .dataframe thead th {\n",
       "        text-align: right;\n",
       "    }\n",
       "</style>\n",
       "<table border=\"1\" class=\"dataframe\">\n",
       "  <thead>\n",
       "    <tr style=\"text-align: right;\">\n",
       "      <th></th>\n",
       "      <th>num</th>\n",
       "      <th>date_reported</th>\n",
       "      <th>date_occured</th>\n",
       "      <th>time_occured</th>\n",
       "      <th>crime_code</th>\n",
       "      <th>crime_desc</th>\n",
       "      <th>weapon</th>\n",
       "      <th>location</th>\n",
       "    </tr>\n",
       "  </thead>\n",
       "  <tbody>\n",
       "    <tr>\n",
       "      <th>0</th>\n",
       "      <td>1208575</td>\n",
       "      <td>03/14/2013</td>\n",
       "      <td>03/11/2013</td>\n",
       "      <td>1800</td>\n",
       "      <td>626</td>\n",
       "      <td>INTIMATE PARTNER - SIMPLE ASSAULT</td>\n",
       "      <td>STRONG-ARM (HANDS, FIST, FEET OR BODILY FORCE)</td>\n",
       "      <td>(33.9829, -118.3338)</td>\n",
       "    </tr>\n",
       "    <tr>\n",
       "      <th>1</th>\n",
       "      <td>102005556</td>\n",
       "      <td>01/25/2010</td>\n",
       "      <td>01/22/2010</td>\n",
       "      <td>2300</td>\n",
       "      <td>510</td>\n",
       "      <td>VEHICLE - STOLEN</td>\n",
       "      <td>NaN</td>\n",
       "      <td>(34.0454, -118.3157)</td>\n",
       "    </tr>\n",
       "    <tr>\n",
       "      <th>2</th>\n",
       "      <td>418</td>\n",
       "      <td>03/19/2013</td>\n",
       "      <td>03/18/2013</td>\n",
       "      <td>2030</td>\n",
       "      <td>510</td>\n",
       "      <td>VEHICLE - STOLEN</td>\n",
       "      <td>NaN</td>\n",
       "      <td>(33.942, -118.2717)</td>\n",
       "    </tr>\n",
       "    <tr>\n",
       "      <th>3</th>\n",
       "      <td>101822289</td>\n",
       "      <td>11/11/2010</td>\n",
       "      <td>11/10/2010</td>\n",
       "      <td>1800</td>\n",
       "      <td>510</td>\n",
       "      <td>VEHICLE - STOLEN</td>\n",
       "      <td>NaN</td>\n",
       "      <td>(33.9572, -118.2717)</td>\n",
       "    </tr>\n",
       "    <tr>\n",
       "      <th>4</th>\n",
       "      <td>42104479</td>\n",
       "      <td>01/11/2014</td>\n",
       "      <td>01/04/2014</td>\n",
       "      <td>2300</td>\n",
       "      <td>745</td>\n",
       "      <td>VANDALISM - MISDEAMEANOR ($399 OR UNDER)</td>\n",
       "      <td>NaN</td>\n",
       "      <td>(34.2009, -118.6369)</td>\n",
       "    </tr>\n",
       "  </tbody>\n",
       "</table>\n",
       "</div>"
      ],
      "text/plain": [
       "         num date_reported date_occured  time_occured  crime_code  \\\n",
       "0    1208575    03/14/2013   03/11/2013          1800         626   \n",
       "1  102005556    01/25/2010   01/22/2010          2300         510   \n",
       "2        418    03/19/2013   03/18/2013          2030         510   \n",
       "3  101822289    11/11/2010   11/10/2010          1800         510   \n",
       "4   42104479    01/11/2014   01/04/2014          2300         745   \n",
       "\n",
       "                                 crime_desc  \\\n",
       "0         INTIMATE PARTNER - SIMPLE ASSAULT   \n",
       "1                          VEHICLE - STOLEN   \n",
       "2                          VEHICLE - STOLEN   \n",
       "3                          VEHICLE - STOLEN   \n",
       "4  VANDALISM - MISDEAMEANOR ($399 OR UNDER)   \n",
       "\n",
       "                                           weapon              location  \n",
       "0  STRONG-ARM (HANDS, FIST, FEET OR BODILY FORCE)  (33.9829, -118.3338)  \n",
       "1                                             NaN  (34.0454, -118.3157)  \n",
       "2                                             NaN   (33.942, -118.2717)  \n",
       "3                                             NaN  (33.9572, -118.2717)  \n",
       "4                                             NaN  (34.2009, -118.6369)  "
      ]
     },
     "execution_count": 200,
     "metadata": {},
     "output_type": "execute_result"
    }
   ],
   "source": [
    "data"
   ]
  },
  {
   "cell_type": "code",
   "execution_count": 201,
   "metadata": {},
   "outputs": [],
   "source": [
    "loc = pd.DataFrame(data.location.str.replace('(','').str.replace(')','').str.split(', '))"
   ]
  },
  {
   "cell_type": "code",
   "execution_count": 202,
   "metadata": {},
   "outputs": [],
   "source": [
    "data['location'] = loc"
   ]
  },
  {
   "cell_type": "code",
   "execution_count": 203,
   "metadata": {},
   "outputs": [],
   "source": [
    "response = data.to_json(orient='records')"
   ]
  },
  {
   "cell_type": "code",
   "execution_count": 204,
   "metadata": {},
   "outputs": [
    {
     "data": {
      "text/plain": [
       "'[{\"num\":1208575,\"date_reported\":\"03\\\\/14\\\\/2013\",\"date_occured\":\"03\\\\/11\\\\/2013\",\"time_occured\":1800,\"crime_code\":626,\"crime_desc\":\"INTIMATE PARTNER - SIMPLE ASSAULT\",\"weapon\":\"STRONG-ARM (HANDS, FIST, FEET OR BODILY FORCE)\",\"location\":[\"33.9829\",\"-118.3338\"]},{\"num\":102005556,\"date_reported\":\"01\\\\/25\\\\/2010\",\"date_occured\":\"01\\\\/22\\\\/2010\",\"time_occured\":2300,\"crime_code\":510,\"crime_desc\":\"VEHICLE - STOLEN\",\"weapon\":null,\"location\":[\"34.0454\",\"-118.3157\"]},{\"num\":418,\"date_reported\":\"03\\\\/19\\\\/2013\",\"date_occured\":\"03\\\\/18\\\\/2013\",\"time_occured\":2030,\"crime_code\":510,\"crime_desc\":\"VEHICLE - STOLEN\",\"weapon\":null,\"location\":[\"33.942\",\"-118.2717\"]},{\"num\":101822289,\"date_reported\":\"11\\\\/11\\\\/2010\",\"date_occured\":\"11\\\\/10\\\\/2010\",\"time_occured\":1800,\"crime_code\":510,\"crime_desc\":\"VEHICLE - STOLEN\",\"weapon\":null,\"location\":[\"33.9572\",\"-118.2717\"]},{\"num\":42104479,\"date_reported\":\"01\\\\/11\\\\/2014\",\"date_occured\":\"01\\\\/04\\\\/2014\",\"time_occured\":2300,\"crime_code\":745,\"crime_desc\":\"VANDALISM - MISDEAMEANOR ($399 OR UNDER)\",\"weapon\":null,\"location\":[\"34.2009\",\"-118.6369\"]}]'"
      ]
     },
     "execution_count": 204,
     "metadata": {},
     "output_type": "execute_result"
    }
   ],
   "source": [
    "response"
   ]
  },
  {
   "cell_type": "code",
   "execution_count": null,
   "metadata": {},
   "outputs": [],
   "source": []
  }
 ],
 "metadata": {
  "kernelspec": {
   "display_name": "Python 3",
   "language": "python",
   "name": "python3"
  },
  "language_info": {
   "codemirror_mode": {
    "name": "ipython",
    "version": 3
   },
   "file_extension": ".py",
   "mimetype": "text/x-python",
   "name": "python",
   "nbconvert_exporter": "python",
   "pygments_lexer": "ipython3",
   "version": "3.6.4"
  }
 },
 "nbformat": 4,
 "nbformat_minor": 2
}
